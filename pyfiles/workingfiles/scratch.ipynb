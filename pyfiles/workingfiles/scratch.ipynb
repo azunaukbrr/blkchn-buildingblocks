{
 "cells": [
  {
   "cell_type": "code",
   "execution_count": 6,
   "metadata": {},
   "outputs": [
    {
     "data": {
      "text/plain": [
       "True"
      ]
     },
     "execution_count": 6,
     "metadata": {},
     "output_type": "execute_result"
    }
   ],
   "source": [
    "import os\r\n",
    "from web3 import Web3\r\n",
    "from dotenv import load_dotenv\r\n",
    "import os\r\n",
    "from eth_account import Account\r\n",
    "from pathlib import Path\r\n",
    "from getpass import getpass\r\n",
    "\r\n",
    "load_dotenv()"
   ]
  },
  {
   "cell_type": "code",
   "execution_count": 19,
   "metadata": {},
   "outputs": [
    {
     "name": "stdout",
     "output_type": "stream",
     "text": [
      "0xd5eaF158037CC0892FC0D23C8D6473f23Ce5C8EF\n",
      "0x88DAc06e50d9CAB7Fc19d3B56E3BDdb3020D6957\n"
     ]
    }
   ],
   "source": [
    "w3 = Web3(Web3.HTTPProvider(\"http://127.0.0.1:8545\"))\r\n",
    "pkey = os.getenv(\"PK\")\r\n",
    "# w3.eth.getBalance(\"0xd5eaF158037CC0892FC0D23C8D6473f23Ce5C8EF\")\r\n",
    "\r\n",
    "account_one = Account.from_key(pkey)\r\n",
    "account_two = Account.from_key(\"98e7f098c974656a9a676cadcfa10e823c6f34a5834abbc67585eac2d69e8231\")\r\n",
    "print(account_one.address)\r\n",
    "print(account_two.address)"
   ]
  },
  {
   "cell_type": "code",
   "execution_count": 25,
   "metadata": {},
   "outputs": [],
   "source": [
    "def create_raw_tx(account, recipient, amount):\r\n",
    "    gasEstimate = w3.eth.estimateGas(\r\n",
    "        {\"from\": account.address,\r\n",
    "        \"to\": recipient,\r\n",
    "        \"value\":amount\r\n",
    "        }\r\n",
    "    )\r\n",
    "    return {\r\n",
    "        \"chainId\":333,\r\n",
    "        \"from\": account.address,\r\n",
    "        \"to\": recipient,\r\n",
    "        \"value\": amount,\r\n",
    "        \"gasPrice\": w3.eth.gasPrice,\r\n",
    "        \"gas\": gasEstimate,\r\n",
    "        \"nonce\": w3.eth.getTransactionCount\r\n",
    "        (account.address),\r\n",
    "    }\r\n",
    "\r\n",
    "\r\n",
    "def send_tx(account, recipient, amount):\r\n",
    "    tx = create_raw_tx(account, recipient, amount)\r\n",
    "    signed_tx = account.sign_transaction(tx)\r\n",
    "    result = w3.eth.sendRawTransaction(signed_tx.rawTransaction)\r\n",
    "\r\n",
    "    print(result.hex())\r\n",
    "    return result.hex()"
   ]
  },
  {
   "cell_type": "code",
   "execution_count": 27,
   "metadata": {},
   "outputs": [
    {
     "name": "stdout",
     "output_type": "stream",
     "text": [
      "0x91e5c5a34535206a14e09d1227177ecbfb122a355c910db8bd611b8ccfbfb93d\n"
     ]
    },
    {
     "data": {
      "text/plain": [
       "'0x91e5c5a34535206a14e09d1227177ecbfb122a355c910db8bd611b8ccfbfb93d'"
      ]
     },
     "execution_count": 27,
     "metadata": {},
     "output_type": "execute_result"
    }
   ],
   "source": [
    "send_tx(account_one, \"0x88DAc06e50d9CAB7Fc19d3B56E3BDdb3020D6957\", 199999)"
   ]
  }
 ],
 "metadata": {
  "interpreter": {
   "hash": "e25754f819e5ddb9fb4a51521943ff76e5851b166975913eb81f20c6f120baaf"
  },
  "kernelspec": {
   "display_name": "Python 3.8.5 64-bit ('base': conda)",
   "name": "python3"
  },
  "language_info": {
   "codemirror_mode": {
    "name": "ipython",
    "version": 3
   },
   "file_extension": ".py",
   "mimetype": "text/x-python",
   "name": "python",
   "nbconvert_exporter": "python",
   "pygments_lexer": "ipython3",
   "version": "3.8.5"
  },
  "orig_nbformat": 4
 },
 "nbformat": 4,
 "nbformat_minor": 2
}